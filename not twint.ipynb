{
 "cells": [
  {
   "cell_type": "code",
   "execution_count": 1,
   "id": "bbff5be6",
   "metadata": {},
   "outputs": [
    {
     "name": "stdout",
     "output_type": "stream",
     "text": [
      "Requirement already satisfied: tweepy in c:\\users\\shris\\appdata\\local\\programs\\python\\python39\\lib\\site-packages (4.4.0)\n",
      "Requirement already satisfied: requests<3,>=2.11.1 in c:\\users\\shris\\appdata\\local\\programs\\python\\python39\\lib\\site-packages (from tweepy) (2.26.0)\n",
      "Requirement already satisfied: requests-oauthlib<2,>=1.0.0 in c:\\users\\shris\\appdata\\local\\programs\\python\\python39\\lib\\site-packages (from tweepy) (1.3.0)\n",
      "Requirement already satisfied: certifi>=2017.4.17 in c:\\users\\shris\\appdata\\local\\programs\\python\\python39\\lib\\site-packages (from requests<3,>=2.11.1->tweepy) (2021.5.30)\n",
      "Requirement already satisfied: urllib3<1.27,>=1.21.1 in c:\\users\\shris\\appdata\\local\\programs\\python\\python39\\lib\\site-packages (from requests<3,>=2.11.1->tweepy) (1.26.7)\n",
      "Requirement already satisfied: idna<4,>=2.5 in c:\\users\\shris\\appdata\\local\\programs\\python\\python39\\lib\\site-packages (from requests<3,>=2.11.1->tweepy) (3.3)\n",
      "Requirement already satisfied: charset-normalizer~=2.0.0 in c:\\users\\shris\\appdata\\local\\programs\\python\\python39\\lib\\site-packages (from requests<3,>=2.11.1->tweepy) (2.0.7)\n",
      "Requirement already satisfied: oauthlib>=3.0.0 in c:\\users\\shris\\appdata\\local\\programs\\python\\python39\\lib\\site-packages (from requests-oauthlib<2,>=1.0.0->tweepy) (3.1.1)\n"
     ]
    }
   ],
   "source": [
    "!pip install tweepy\n"
   ]
  },
  {
   "cell_type": "code",
   "execution_count": 2,
   "id": "79422ab8",
   "metadata": {},
   "outputs": [
    {
     "name": "stdout",
     "output_type": "stream",
     "text": [
      "Requirement already satisfied: psycopg in c:\\users\\shris\\appdata\\local\\programs\\python\\python39\\lib\\site-packages (3.0.7)\n"
     ]
    }
   ],
   "source": [
    "!pip install psycopg"
   ]
  },
  {
   "cell_type": "code",
   "execution_count": 3,
   "id": "1b0bd3a4",
   "metadata": {},
   "outputs": [],
   "source": [
    "# start_streaming(['Manchester'])"
   ]
  },
  {
   "cell_type": "code",
   "execution_count": 4,
   "id": "e4903df1",
   "metadata": {},
   "outputs": [],
   "source": [
    "import tweepy\n",
    "\n",
    "api_key = 'Wm283YLCEwCZb83i7P3kjgcxW'\n",
    "api_secret_key = 'QTkvikATYdK8d59KNkRNhuyC5N0Shle6iWnYT5Bp0iiIc59uy3'\n",
    "access_token = '1243290037829042177-rtQxFqqOoAmx9aG70IyPpdRgyTi8rx'\n",
    "access_token_secret = 'yS5PKZidMUXY3LgCpg5xe5dB32kLvEfKQQAoIBLWE4jWo'\n",
    "\n",
    "# authorize the API Key\n",
    "authentication = tweepy.OAuthHandler(api_key, api_secret_key)\n",
    "\n",
    "# authorization to user's access token and access token secret\n",
    "authentication.set_access_token(access_token, access_token_secret)\n",
    "\n",
    "# call the api\n",
    "api = tweepy.API(authentication)"
   ]
  },
  {
   "cell_type": "code",
   "execution_count": 5,
   "id": "0448c7bf",
   "metadata": {},
   "outputs": [
    {
     "name": "stdout",
     "output_type": "stream",
     "text": [
      "--> RT @rajeshsawhney: Intense discussion on Web 2.0 v/s Web 3.0 at @BistroPetit_ \n",
      "\n",
      "Devil is in the details not in hyped narratives, believes @…\n",
      "--> Another great addition. https://t.co/CRFwgJoRho\n",
      "--> RT @aditya_kondawar: @connectgurmeet @vivbajaj Was speaking to a PR friend who got the mandate for the IPO. He told the same - that LIC exp…\n",
      "--> RT @tanaypratap: Watched SpiderMan No Way Home. First day, first show. It’s just amazing. \n",
      "\n",
      "So amazing that I want to sponsor yours and +1…\n",
      "--> @rakshitagarwall @tanmaymad Yaa bro I do😂\n"
     ]
    }
   ],
   "source": [
    "public_tweet = api.home_timeline(count=5)\n",
    "\n",
    "for tweet in public_tweet:\n",
    "    print(\"-->\",tweet.text)"
   ]
  },
  {
   "cell_type": "code",
   "execution_count": 6,
   "id": "813033fd",
   "metadata": {},
   "outputs": [
    {
     "name": "stderr",
     "output_type": "stream",
     "text": [
      "Unexpected parameter: id\n"
     ]
    },
    {
     "name": "stdout",
     "output_type": "stream",
     "text": [
      "--> @WholeMarsBlog I came to the US with no money &amp; graduated with over $100k in debt, despite scholarships &amp; working 2 jobs while at school\n",
      "--> @TeslaOwnersEBay @PPathole @ScottAdamsSays @johniadarola @SenWarren It’s complicated, but hopefully out next quarte… https://t.co/eBzwFTelTu\n",
      "--> @PPathole @ScottAdamsSays @johniadarola @SenWarren Yeah!\n",
      "--> https://t.co/Wv6iJDuTge\n",
      "--> @24_7TeslaNews @Tesla ❤️\n"
     ]
    }
   ],
   "source": [
    "user = \"elonmusk\"\n",
    "public_tweet = api.user_timeline(id=user,count=5)\n",
    "\n",
    "for tweet in public_tweet:\n",
    "    print(\"-->\",tweet.text)"
   ]
  },
  {
   "cell_type": "code",
   "execution_count": 7,
   "id": "53ba7d23",
   "metadata": {},
   "outputs": [],
   "source": [
    "# result = api.search(['dogecoin'], lang='en', count=10)\n",
    "\n",
    "# # JSON keys\n",
    "# pprint(result[0]._json.keys())"
   ]
  },
  {
   "cell_type": "code",
   "execution_count": 8,
   "id": "39819f9a",
   "metadata": {},
   "outputs": [],
   "source": [
    "class MyStreamListener(tweepy.Stream):\n",
    "    \n",
    "    def __init__(self, time_limit=300):\n",
    "        self.start_time = time.time()\n",
    "        self.limit = time_limit\n",
    "        super(MyStreamListener, self).__init__()\n",
    "    \n",
    "    def on_connect(self):\n",
    "        print(\"Connected to Twitter API.\")\n",
    "        \n",
    "    def on_status(self, status):\n",
    "        \n",
    "        \n",
    "        # Tweet ID\n",
    "        tweet_id = status.id\n",
    "        \n",
    "        # User ID\n",
    "        user_id = status.user.id\n",
    "        # Username\n",
    "        username = status.user.name\n",
    "        \n",
    "        \n",
    "        # Tweet\n",
    "        if status.truncated == True:\n",
    "            tweet = status.extended_tweet['full_text']\n",
    "            hashtags = status.extended_tweet['entities']['hashtags']\n",
    "        else:\n",
    "            tweet = status.text\n",
    "            hashtags = status.entities['hashtags']\n",
    "        \n",
    "        # Read hastags\n",
    "        hashtags = read_hashtags(hashtags)            \n",
    "        \n",
    "        # Retweet count\n",
    "        retweet_count = status.retweet_count\n",
    "        # Language\n",
    "        lang = status.lang\n",
    "        \n",
    "        \n",
    "        # If tweet is not a retweet and tweet is in English\n",
    "        if not hasattr(status, \"retweeted_status\") and lang==\"en\":\n",
    "            # Connect to database\n",
    "            dbConnect(user_id, username, tweet_id, tweet, retweet_count, hashtags)\n",
    "            \n",
    "        if (time.time() - self.start_time) > self.limit:\n",
    "            \n",
    "            print(time.time(), self.start_time, self.limit)\n",
    "            return False\n",
    "            \n",
    "    def on_error(self, status_code):\n",
    "        if status_code == 420:\n",
    "            # Returning False in on_data disconnects the stream\n",
    "            return False"
   ]
  },
  {
   "cell_type": "code",
   "execution_count": 9,
   "id": "61557aa3",
   "metadata": {},
   "outputs": [],
   "source": [
    "def read_hashtags(tag_list):\n",
    "    hashtags = []\n",
    "    for tag in tag_list:\n",
    "        hashtags.append(tag['text'])\n",
    "    return hashtags"
   ]
  },
  {
   "cell_type": "code",
   "execution_count": 10,
   "id": "a03f7949",
   "metadata": {},
   "outputs": [],
   "source": [
    "def __init__(self, fetched_tweets_filename):\n",
    "    myStreamListener = MyStreamListener()\n",
    "    myStream = tweepy.Stream(auth=api.auth, listener=myStreamListener,\n",
    "                        tweet_mode=\"extended\")\n",
    "    myStream.filter(track=['dogecooin','bitcoin'])"
   ]
  },
  {
   "cell_type": "code",
   "execution_count": null,
   "id": "d78f4779",
   "metadata": {},
   "outputs": [],
   "source": []
  }
 ],
 "metadata": {
  "kernelspec": {
   "display_name": "Python 3",
   "language": "python",
   "name": "python3"
  },
  "language_info": {
   "codemirror_mode": {
    "name": "ipython",
    "version": 3
   },
   "file_extension": ".py",
   "mimetype": "text/x-python",
   "name": "python",
   "nbconvert_exporter": "python",
   "pygments_lexer": "ipython3",
   "version": "3.9.4"
  }
 },
 "nbformat": 4,
 "nbformat_minor": 5
}
