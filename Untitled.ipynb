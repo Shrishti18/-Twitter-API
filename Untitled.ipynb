{
 "cells": [
  {
   "cell_type": "code",
   "execution_count": 1,
   "id": "f0b6bea2",
   "metadata": {},
   "outputs": [],
   "source": [
    "\n",
    "import nest_asyncio\n",
    "nest_asyncio.apply()\n",
    "\n"
   ]
  },
  {
   "cell_type": "code",
   "execution_count": 2,
   "id": "86e199be",
   "metadata": {},
   "outputs": [
    {
     "name": "stdout",
     "output_type": "stream",
     "text": [
      "1469384135198363651 2021-12-11 00:40:52 +0530 <elonmusk> @GailAlfarATX @SawyerMerritt @dogecoin Imbued gold/bronze color would be sick\n",
      "1464000520616558592 2021-11-26 04:08:18 +0530 <elonmusk> @GailAlfarATX @SpaceX @RGVaerialphotos @cnunezimages @kanyewest @SciGuySpace @Erdayastronaut @dogecoin @BillyM2k @austinbarnard45 @NASA Absolutely!\n",
      "1454876031232380928 2021-10-31 23:50:50 +0530 <elonmusk> Tuition is in Dogecoin &amp; u get a discount if u have a dog\n",
      "1451623475978833927 2021-10-23 00:26:21 +0530 <elonmusk> @UberFacts *In Dogecoin\n",
      "1433481968692305963 2021-09-02 22:58:28 +0530 <elonmusk> @dogecoin_devs Good progress. Applying information theory to currency (which is just information), lower fees reduce noise &amp; faster &amp; more consistent sync time improve latency &amp; jitter.\n",
      "1414774945335361548 2021-07-13 08:03:26 +0530 <elonmusk> @CGDaveMac Maybe if it sees a Shiba Inu, the car renders a Dogecoin …\n",
      "1401091921746006017 2021-06-05 13:51:59 +0530 <elonmusk> @lexfridman @VitalikButerin @ethereum @Bitcoin @dogecoin @ShibainuCoin @IOHK_Charles @Cardano @chainlink @0xPolygon I pretty much agree with Vitalik\n",
      "1397285556954877953 2021-05-26 01:46:51 +0530 <elonmusk> @itsALLrisky Please note Dogecoin has no formal organization &amp; no one reports to me, so my ability to take action is limited\n",
      "1397064185222078467 2021-05-25 11:07:12 +0530 <elonmusk> @heydave7 @dogecoin_devs Doge has dogs &amp; memes, whereas the others do not\n",
      "1396926365996261382 2021-05-25 01:59:33 +0530 <elonmusk> Someone suggested changing Dogecoin fees based on phases of the moon, which is pretty awesome haha\n",
      "1396916392629137409 2021-05-25 01:19:56 +0530 <elonmusk> If you’d like to help develop Doge, please submit ideas on GitHub &amp;  https://t.co/liAPQMFaQB @dogecoin_devs\n",
      "1377567762919292938 2021-04-01 15:55:23 +0530 <elonmusk> SpaceX is going to put a literal Dogecoin on the literal moon\n",
      "1370883943143251968 2021-03-14 05:16:16 +0530 <elonmusk> Origin of Doge Day Afternoon: The ancient Romans sacrificed a Dogecoin at the beginning of the Doge Days to appease the rage of Sirius, believing that the star was the cause of the hot, sultry weather.\n",
      "1366668744748007425 2021-03-02 14:06:34 +0530 <elonmusk> @draecomino 2022: Dogecoin is dumb\n",
      "1363067491673468932 2021-02-20 15:36:29 +0530 <elonmusk> @PPathole @dogecoin Just some used Antminer L3+ rigs bought off eBay. Not really economic, but it was a fun family project.\n",
      "1363046350900785156 2021-02-20 14:12:28 +0530 <elonmusk> @dogecoin I just set up some little Doge mining rigs with my kids. It was fun.\n",
      "1361094185412100096 2021-02-15 04:55:16 +0530 <elonmusk> If major Dogecoin holders sell most of their coins, it will get my full support. Too much concentration is the only real issue imo.\n",
      "1359519541219500033 2021-02-10 20:38:11 +0530 <elonmusk> Bought some Dogecoin for lil X, so he can be a toddler hodler\n",
      "1357241340313141249 2021-02-04 13:45:26 +0530 <elonmusk> Dogecoin is the people’s crypto\n",
      "1254039929333649409 2020-04-25 18:59:52 +0530 <elonmusk> @28delayslater @justpaulinelol Dogecoin Mode\n"
     ]
    }
   ],
   "source": [
    "import twint\n",
    "config = twint.Config()\n",
    "config.Username=\"elonmusk\"\n",
    "config.Custom[\"tweet\"] = [\"id\"]\n",
    "config.Search = \"Dogecoin\"\n",
    "config.Limit = 10\n",
    "# config.Store_csv = True\n",
    "# config.Output = \"doge_elon.csv\"\n",
    "twint.run.Search(config)"
   ]
  },
  {
   "cell_type": "code",
   "execution_count": null,
   "id": "b9c07c7a",
   "metadata": {},
   "outputs": [],
   "source": []
  }
 ],
 "metadata": {
  "kernelspec": {
   "display_name": "Python 3",
   "language": "python",
   "name": "python3"
  },
  "language_info": {
   "codemirror_mode": {
    "name": "ipython",
    "version": 3
   },
   "file_extension": ".py",
   "mimetype": "text/x-python",
   "name": "python",
   "nbconvert_exporter": "python",
   "pygments_lexer": "ipython3",
   "version": "3.9.4"
  }
 },
 "nbformat": 4,
 "nbformat_minor": 5
}
